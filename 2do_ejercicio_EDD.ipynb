{
  "nbformat": 4,
  "nbformat_minor": 0,
  "metadata": {
    "colab": {
      "name": "2do ejercicio_EDD.ipynb",
      "provenance": [],
      "authorship_tag": "ABX9TyNKXOCojmjs4F0aWmf4D39d",
      "include_colab_link": true
    },
    "kernelspec": {
      "name": "python3",
      "display_name": "Python 3"
    },
    "language_info": {
      "name": "python"
    }
  },
  "cells": [
    {
      "cell_type": "markdown",
      "metadata": {
        "id": "view-in-github",
        "colab_type": "text"
      },
      "source": [
        "<a href=\"https://colab.research.google.com/github/Angel-Joven/EDD_2022/blob/main/2do_ejercicio_EDD.ipynb\" target=\"_parent\"><img src=\"https://colab.research.google.com/assets/colab-badge.svg\" alt=\"Open In Colab\"/></a>"
      ]
    },
    {
      "cell_type": "code",
      "metadata": {
        "colab": {
          "base_uri": "https://localhost:8080/"
        },
        "id": "IBRgP-JK669G",
        "outputId": "2519137b-cea3-497b-a01c-08d6db91cb3d"
      },
      "source": [
        "#Segundo ejercicio de estructuras de datos\n",
        "#JOVEN JIMENEZ ANGEL CRISTIAN\n",
        "\n",
        "#Implementacion de una Fila (FIFO) en python\n",
        "\n",
        "class Cola: #Creamos la clase Cola\n",
        "    def __init__(self):\n",
        "        self.items = []\n",
        "\n",
        "    def push(self, item): #Metodo para insertar elementos a la Fila\n",
        "        self.items.push(-0,item)\n",
        "\n",
        "    def pop(self): #Metodo para eliminar el primer elemento de la Fila\n",
        "        return self.items.pop()\n",
        "\n",
        "    def print_stack(self): #Metodo para mostrar los elementos de la Fila\n",
        "        print(self.items)\n",
        "\n",
        "f = Cola()\n",
        "\n",
        "#ingresamos algunos elementos a la Fila\n",
        "\n",
        "i = 1\n",
        "while i <= 5: #Gestiona el numero de elementos a añadir\n",
        "  f.push(input(\"Ingrese el dato: \"))\n",
        "  i += 1\n",
        "\n",
        "f.print_stack() #Mostramos los elementos de la Fila\n",
        "\n",
        "j = 1\n",
        "while j <= 1: #Gestiona el numero de elementos a eliminar\n",
        "  f.pop() #Utilizamos el metodo pop\n",
        "  j += 1\n",
        "\n",
        "f.print_stack() #Mostramos nuevamente los elementos de la Fila"
      ],
      "execution_count": null,
      "outputs": [
        {
          "output_type": "stream",
          "name": "stdout",
          "text": [
            "Ingrese el dato: 1\n",
            "Ingrese el dato: 2\n",
            "Ingrese el dato: 3\n",
            "Ingrese el dato: 4\n",
            "Ingrese el dato: 5\n",
            "['5', '4', '3', '2', '1']\n",
            "['5', '4', '3', '2']\n"
          ]
        }
      ]
    }
  ]
}