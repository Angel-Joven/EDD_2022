{
  "nbformat": 4,
  "nbformat_minor": 0,
  "metadata": {
    "colab": {
      "name": "3cer ejercicio_EDD.ipynb",
      "provenance": [],
      "collapsed_sections": [],
      "authorship_tag": "ABX9TyM003CQe3fMqQ0eEwS+p+8l",
      "include_colab_link": true
    },
    "kernelspec": {
      "name": "python3",
      "display_name": "Python 3"
    },
    "language_info": {
      "name": "python"
    }
  },
  "cells": [
    {
      "cell_type": "markdown",
      "metadata": {
        "id": "view-in-github",
        "colab_type": "text"
      },
      "source": [
        "<a href=\"https://colab.research.google.com/github/Angel-Joven/EDD_2022/blob/main/3cer_ejercicio_EDD.ipynb\" target=\"_parent\"><img src=\"https://colab.research.google.com/assets/colab-badge.svg\" alt=\"Open In Colab\"/></a>"
      ]
    },
    {
      "cell_type": "code",
      "metadata": {
        "id": "y23NiWYtrpJx",
        "colab": {
          "base_uri": "https://localhost:8080/"
        },
        "outputId": "8f112722-bf34-4e58-cc3c-8a26e114dcad"
      },
      "source": [
        "#Tercer ejercicio de estructuras de datos\n",
        "#JOVEN JIMENEZ ANGEL CRISTIAN\n",
        "\n",
        "#Implementacion de una lista ligada en python\n",
        "\n",
        "class lista(object):\n",
        "\n",
        "    def __init__(self, dato = None, direccion = None): #Metodo para gestionar elementos a la lista, en 'dato' se ingresa el valor de un dato y en la 'direccion' se ingresa el valor del siguiente dato\n",
        "        self.dato = dato\n",
        "        self.direccion = direccion\n",
        "\n",
        "    def __str__(self): #Metodo para regresar los elementos a la lista\n",
        "        return str(self.dato)\n",
        "\n",
        "    def verLista(lista): #Metodo para mostrar los elementos de la lista, recorre toda la lista mostrando sus contenidos.\n",
        "      while lista:\n",
        "        print(lista)\n",
        "        lista = lista.direccion\n",
        "\n",
        "#ingresamos algunos elementos a lista\n",
        "dato5 = lista(\"Fresas\")\n",
        "dato4 = lista(\"Uvas\", dato5)\n",
        "dato3 = lista(\"Manzanas\", dato2)\n",
        "dato2 = lista(\"Peras\", dato4)\n",
        "dato1 = lista(\"Bananas\", dato3)\n",
        "\n",
        "\n",
        "lista.verLista(dato1) #Mostramos la Lista"
      ],
      "execution_count": 14,
      "outputs": [
        {
          "output_type": "stream",
          "name": "stdout",
          "text": [
            "Bananas\n",
            "Manzanas\n",
            "Peras\n",
            "Uvas\n",
            "Fresas\n"
          ]
        }
      ]
    }
  ]
}