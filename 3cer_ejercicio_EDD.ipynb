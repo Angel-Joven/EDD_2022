{
  "nbformat": 4,
  "nbformat_minor": 0,
  "metadata": {
    "colab": {
      "name": "3cer ejercicio_EDD.ipynb",
      "provenance": [],
      "collapsed_sections": [],
      "authorship_tag": "ABX9TyN1o//m4rKBO3CZAFPYmIFw",
      "include_colab_link": true
    },
    "kernelspec": {
      "name": "python3",
      "display_name": "Python 3"
    },
    "language_info": {
      "name": "python"
    }
  },
  "cells": [
    {
      "cell_type": "markdown",
      "metadata": {
        "id": "view-in-github",
        "colab_type": "text"
      },
      "source": [
        "<a href=\"https://colab.research.google.com/github/Angel-Joven/EDD_2022/blob/main/3cer_ejercicio_EDD.ipynb\" target=\"_parent\"><img src=\"https://colab.research.google.com/assets/colab-badge.svg\" alt=\"Open In Colab\"/></a>"
      ]
    },
    {
      "cell_type": "code",
      "metadata": {
        "id": "y23NiWYtrpJx",
        "colab": {
          "base_uri": "https://localhost:8080/"
        },
        "outputId": "53cade7f-fdc0-4a59-8809-417118d5dc40"
      },
      "source": [
        "#Tercer ejercicio de estructuras de datos\n",
        "#JOVEN JIMENEZ ANGEL CRISTIAN\n",
        "\n",
        "#Implementacion de una lista ligada en python\n",
        "\n",
        "class lista(object):\n",
        "\n",
        "    def __init__(self, dato = None, direccion = None): #Metodo para gestionar elementos a la lista, en 'dato' se ingresa el valor de un dato y en la 'direccion' se ingresa el valor del siguiente dato\n",
        "        self.dato = dato\n",
        "        self.direccion = direccion\n",
        "\n",
        "    def __str__(self): #Metodo para regresar los elementos a la lista\n",
        "        return str(self.dato)\n",
        "\n",
        "    def verLista(lista): #Metodo para mostrar los elementos de la lista, recorre toda la lista mostrando sus contenidos.\n",
        "      while lista:\n",
        "        print(lista)\n",
        "        lista = lista.direccion\n",
        "\n",
        "#ingresamos algunos elementos a lista\n",
        "dat1 ='Bananas'\n",
        "dat2 ='Peras'\n",
        "dat3 ='Manzanas'\n",
        "dat4 ='Uvas'\n",
        "dat5 ='Fresas'\n",
        "\n",
        "dato5 = lista(dat5)\n",
        "dato4 = lista(dat4, dato5)\n",
        "dato3 = lista(dat3, dato2)\n",
        "dato2 = lista(dat2, dato4)\n",
        "dato1 = lista(dat1, dato3)\n",
        "\n",
        "\n",
        "lista.verLista(dato1) #Mostramos la Lista"
      ],
      "execution_count": 19,
      "outputs": [
        {
          "output_type": "stream",
          "name": "stdout",
          "text": [
            "Bananas\n",
            "Manzanas\n",
            "Peras\n",
            "Uvas\n",
            "Fresas\n"
          ]
        }
      ]
    }
  ]
}