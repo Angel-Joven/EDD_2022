{
  "nbformat": 4,
  "nbformat_minor": 0,
  "metadata": {
    "colab": {
      "name": "Tarea_01_EDD.ipynb",
      "provenance": [],
      "collapsed_sections": [],
      "authorship_tag": "ABX9TyP1LWvVs+FgvLb0t52yNKqg",
      "include_colab_link": true
    },
    "kernelspec": {
      "name": "python3",
      "display_name": "Python 3"
    },
    "language_info": {
      "name": "python"
    }
  },
  "cells": [
    {
      "cell_type": "markdown",
      "metadata": {
        "id": "view-in-github",
        "colab_type": "text"
      },
      "source": [
        "<a href=\"https://colab.research.google.com/github/Angel-Joven/EDD_2022/blob/main/Tarea_01_EDD.ipynb\" target=\"_parent\"><img src=\"https://colab.research.google.com/assets/colab-badge.svg\" alt=\"Open In Colab\"/></a>"
      ]
    },
    {
      "cell_type": "code",
      "metadata": {
        "id": "z4CMSa2sS7uV",
        "colab": {
          "base_uri": "https://localhost:8080/"
        },
        "outputId": "5c262519-239a-458a-cae7-d6694c1836df"
      },
      "source": [
        "#Conversor de flotante binario a decimal.\n",
        "#JOVEN JIMENEZ ANGEL CRISTIAN\n",
        "\n",
        "binario = float(input(\"Número en flotante binario: \"))\n",
        "\n",
        "digito = 0.0\n",
        "decimal = 0.0\n",
        "i = 0\n",
        "\n",
        "while (binario > 0):\n",
        "    digito  = binario%10\n",
        "    binario = binario//10\n",
        "    decimal = decimal+digito*(2**i)\n",
        "    i = i+1\n",
        "\n",
        "print(\"En decimal: \", decimal)"
      ],
      "execution_count": 5,
      "outputs": [
        {
          "output_type": "stream",
          "name": "stdout",
          "text": [
            "Número en flotante binario: 1101.10101\n",
            "En decimal:  13.101010000000088\n"
          ]
        }
      ]
    }
  ]
}