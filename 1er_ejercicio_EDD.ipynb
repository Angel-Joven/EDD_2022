{
  "nbformat": 4,
  "nbformat_minor": 0,
  "metadata": {
    "colab": {
      "name": "1er ejercicio_EDD.ipynb",
      "provenance": [],
      "authorship_tag": "ABX9TyMe5iOfpP3WMy6SImqwKRHB",
      "include_colab_link": true
    },
    "kernelspec": {
      "name": "python3",
      "display_name": "Python 3"
    },
    "language_info": {
      "name": "python"
    }
  },
  "cells": [
    {
      "cell_type": "markdown",
      "metadata": {
        "id": "view-in-github",
        "colab_type": "text"
      },
      "source": [
        "<a href=\"https://colab.research.google.com/github/Angel-Joven/EDD_2022/blob/main/1er_ejercicio_EDD.ipynb\" target=\"_parent\"><img src=\"https://colab.research.google.com/assets/colab-badge.svg\" alt=\"Open In Colab\"/></a>"
      ]
    },
    {
      "cell_type": "code",
      "metadata": {
        "colab": {
          "base_uri": "https://localhost:8080/"
        },
        "id": "KHhZmWjMf7QX",
        "outputId": "e5c1526c-2f21-465a-9112-4511e919b374"
      },
      "source": [
        "#Primer ejercicio de estructuras de datos\n",
        "#JOVEN JIMENEZ ANGEL CRISTIAN\n",
        "\n",
        "#Implementacion de una pila en pyhton\n",
        "\n",
        "class Stack: #Creamos la clase Stack\n",
        "    def __init__(self):\n",
        "        self.items = []\n",
        "    \n",
        "    def push(self, item): #Metodo para insertar elementos a la pila\n",
        "        self.items.insert(0, item)\n",
        "    \n",
        "    def pop(self): #Metodo para eliminar el ultimo elemento apilado\n",
        "        return self.items.pop(0)\n",
        "    \n",
        "    def print_stack(self): #Metodo para mostrar los elementos de la pila\n",
        "        print(self.items)\n",
        "    \n",
        "    \n",
        "pila = Stack() #Creamos una instancia de la pila\n",
        " \n",
        "#ingresamos algunos elementos a la pila\n",
        "\n",
        "i = 1\n",
        "while i <= 3: #Gestiona el numero de elementos a añadir\n",
        "  pila.push(input(\"Ingrese el dato: \"))\n",
        "  i += 1\n",
        "\n",
        "pila.print_stack() #Mostramos los elementos de la pila\n",
        "\n",
        "j = 1\n",
        "while j <= 3: #Gestiona el numero de elementos a eliminar\n",
        "  pila.pop() #Utilizamos el metodo pop\n",
        "  j += 1\n",
        "\n",
        "pila.print_stack() #Mostramos nuevamente los elementos de la pila\n"
      ],
      "execution_count": 57,
      "outputs": [
        {
          "output_type": "stream",
          "name": "stdout",
          "text": [
            "Ingrese el dato: 10\n",
            "Ingrese el dato: 20\n",
            "Ingrese el dato: 40\n",
            "['40', '20', '10']\n",
            "[]\n"
          ]
        }
      ]
    }
  ]
}