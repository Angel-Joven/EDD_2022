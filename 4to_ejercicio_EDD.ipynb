{
  "nbformat": 4,
  "nbformat_minor": 0,
  "metadata": {
    "colab": {
      "name": "4to ejercicio_EDD.ipynb",
      "provenance": [],
      "collapsed_sections": [],
      "authorship_tag": "ABX9TyO7goeBEdJpiYrj54cRDRPC",
      "include_colab_link": true
    },
    "kernelspec": {
      "name": "python3",
      "display_name": "Python 3"
    },
    "language_info": {
      "name": "python"
    }
  },
  "cells": [
    {
      "cell_type": "markdown",
      "metadata": {
        "id": "view-in-github",
        "colab_type": "text"
      },
      "source": [
        "<a href=\"https://colab.research.google.com/github/Angel-Joven/EDD_2022/blob/main/4to_ejercicio_EDD.ipynb\" target=\"_parent\"><img src=\"https://colab.research.google.com/assets/colab-badge.svg\" alt=\"Open In Colab\"/></a>"
      ]
    },
    {
      "cell_type": "code",
      "metadata": {
        "colab": {
          "base_uri": "https://localhost:8080/"
        },
        "id": "Z9la60ea9iG7",
        "outputId": "985ca472-0878-475f-88af-86d0e29700c3"
      },
      "source": [
        "#Cuarto ejercicio de estructuras de datos\n",
        "#JOVEN JIMENEZ ANGEL CRISTIAN\n",
        "\n",
        "#Implementacion de una lista ligada doble en python\n",
        "\n",
        "class lista(object):\n",
        "\n",
        "    def __init__(self, direccion_2 = None, dato = None, direccion = None): #Metodo para gestionar elementos a la lista, en la 'direccion_2' se ingresa el valor del anterior dato,\n",
        "                                                                           #en 'dato' se ingresa el valor de un dato y en la 'direccion' se ingresa el valor del siguiente dato\n",
        "        self.dato = dato\n",
        "        self.direccion = direccion\n",
        "        self.direccion_2 = direccion_2\n",
        "\n",
        "    def __str__(self): #Metodo para regresar los elementos a la lista\n",
        "        return str(self.dato)\n",
        "\n",
        "    def verLista(lista): #Metodo para mostrar los elementos de la lista, recorre toda la lista mostrando sus contenidos.\n",
        "      while lista:\n",
        "        print(lista)\n",
        "        lista = lista.direccion\n",
        "        \n",
        "        \n",
        "\n",
        "#ingresamos algunos elementos a lista\n",
        "dat1 ='Bananas'\n",
        "dat2 ='Peras'\n",
        "dat3 ='Manzanas'\n",
        "dat4 ='Uvas'\n",
        "dat5 ='Fresas'\n",
        "\n",
        "dato5 = lista(dato4, dat5, dato1)\n",
        "dato4 = lista(dato2, dat4, dato5)\n",
        "dato3 = lista(dato1, dat3, dato2)\n",
        "dato2 = lista(dato3, dat2, dato4)\n",
        "dato1 = lista(dato5, dat1, dato3)\n",
        "\n",
        "lista.verLista(dato1) #Mostramos la Lista"
      ],
      "execution_count": 65,
      "outputs": [
        {
          "output_type": "stream",
          "name": "stdout",
          "text": [
            "Bananas\n",
            "Manzanas\n",
            "Peras\n",
            "Uvas\n",
            "Fresas\n",
            "Bananas\n",
            "Manzanas\n",
            "Peras\n",
            "Uvas\n",
            "Fresas\n",
            "Manzanas\n"
          ]
        }
      ]
    }
  ]
}